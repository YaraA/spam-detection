{
 "cells": [
  {
   "cell_type": "code",
   "execution_count": 27,
   "metadata": {},
   "outputs": [],
   "source": [
    "docs = ['This is the first document', 'This is the Second longer DOCUMENT', 'THIS is ANOTHER document']"
   ]
  },
  {
   "cell_type": "code",
   "execution_count": 31,
   "metadata": {},
   "outputs": [
    {
     "name": "stdout",
     "output_type": "stream",
     "text": [
      "[26, 34, 24]\n",
      "[5, 6, 4]\n",
      "[0, 1, 2]\n"
     ]
    }
   ],
   "source": [
    "from nltk import word_tokenize\n",
    "\n",
    "\n",
    "f1 = [len(document) for document in docs] # number of characters of a document\n",
    "f2 = [len(word_tokenize(document)) for document in docs] # number of words in a document\n",
    "f3 = []\n",
    "\n",
    "# Number of upper case words in a document\n",
    "for document in docs:\n",
    "    count_upper = 0\n",
    "    for word in word_tokenize(document):\n",
    "        if word.isupper():\n",
    "            count_upper+=1\n",
    "    f3.append(count_upper)\n",
    "    \n",
    "print(f1)\n",
    "print(f2)\n",
    "print(f3)"
   ]
  },
  {
   "cell_type": "markdown",
   "metadata": {},
   "source": [
    "### List of lists; every list corresponds to a document, every value in the list is the ith feature value of this document"
   ]
  },
  {
   "cell_type": "code",
   "execution_count": 34,
   "metadata": {},
   "outputs": [
    {
     "name": "stdout",
     "output_type": "stream",
     "text": [
      "[[26, 5, 0], [34, 6, 1], [24, 4, 2]]\n"
     ]
    }
   ],
   "source": [
    "feat_matrix = [[f1[i], f2[i], f3[i]] for i in range(len(docs))]\n",
    "print(feat_matrix) # document 0 has 26 letters, 5 words and 0 upper case words"
   ]
  },
  {
   "cell_type": "markdown",
   "metadata": {},
   "source": [
    "### Feature dict"
   ]
  },
  {
   "cell_type": "code",
   "execution_count": 33,
   "metadata": {},
   "outputs": [
    {
     "name": "stdout",
     "output_type": "stream",
     "text": [
      "[[26, 5, 0], [34, 6, 1], [24, 4, 2]]\n"
     ]
    }
   ],
   "source": [
    "feat_dict = {}\n",
    "\n",
    "feat_dict['f1'] = f1\n",
    "feat_dict['f2'] = f2\n",
    "feat_dict['f3'] = f3\n",
    "\n",
    "feat_matrix = [list(tple) for tple in zip(*feat_dict.values())]\n",
    "\n",
    "print(feat_matrix)"
   ]
  }
 ],
 "metadata": {
  "kernelspec": {
   "display_name": "Python 3",
   "language": "python",
   "name": "python3"
  },
  "language_info": {
   "codemirror_mode": {
    "name": "ipython",
    "version": 3
   },
   "file_extension": ".py",
   "mimetype": "text/x-python",
   "name": "python",
   "nbconvert_exporter": "python",
   "pygments_lexer": "ipython3",
   "version": "3.6.1"
  }
 },
 "nbformat": 4,
 "nbformat_minor": 1
}
